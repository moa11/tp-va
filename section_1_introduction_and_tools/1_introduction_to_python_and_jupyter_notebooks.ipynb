{
 "cells": [
  {
   "cell_type": "markdown",
   "id": "57a0230d",
   "metadata": {},
   "source": [
    "![Header Image](../assets/header_image.png \"Header Image\")"
   ]
  },
  {
   "cell_type": "markdown",
   "id": "c3573796-6bd3-42ab-a6f3-14ae29499c9e",
   "metadata": {},
   "source": [
    "# Tâche facultative 1 : Introduction à Python et aux notebooks Jupyter\n",
    "Bienvenue dans la première tâche facultative ! \n",
    "Ce notebook d'exercices est facultatif. Cela signifie que nous recommandons ce notebook uniquement aux étudiants qui n'ont *pas* d'expérience avec\n",
    "- **Python**\n",
    "- **JupyterLab**\n",
    "- **Jupyter Notebooks**\n"
   ]
  },
  {
   "cell_type": "markdown",
   "id": "f89ad14f",
   "metadata": {},
   "source": []
  },
  {
   "cell_type": "markdown",
   "id": "bb3fada9",
   "metadata": {
    "jp-MarkdownHeadingCollapsed": true,
    "tags": []
   },
   "source": [
    "Dans cette tâche, vous allez :\n",
    "- obtenir une brève introduction aux notebooks Jupyter\n",
    "- apprendre comment faire une visite des notebooks Jupyter\n",
    "- apprendre la différence entre les cellules markdown et les cellules de code\n",
    "- et pratiquer un peu de Python de base\n"
   ]
  },
  {
   "cell_type": "markdown",
   "id": "ca3f74f5",
   "metadata": {},
   "source": [
    "## Tâche : Faire une visite guidée de JupyterLab\n",
    "La manière la plus facile de se familiariser avec JupyterLab est de suivre la visite guidée disponible dans le menu Aide :\n",
    "\n",
    "* `Aide` -> `Visite guidée`\n",
    "\n",
    "Exécutez la visite étape par étape et découvrez les différentes fonctionnalités de l'interface utilisateur de JupyterLab !\n"
   ]
  },
  {
   "cell_type": "markdown",
   "id": "b383ddf7",
   "metadata": {},
   "source": [
    "![](./images/welcome_tour.png)"
   ]
  },
  {
   "cell_type": "markdown",
   "id": "74b2b597-a879-47de-aebb-457e700dafe9",
   "metadata": {},
   "source": [
    "# Tâche : Faire une visite guidée de Jupyter Notebook\n",
    "\n",
    "Maintenant, examinons de plus près les notebooks Jupyter. Alors que Jupyter Lab est simplement l'environnement où les notebooks sont placés, les notebooks Jupyter sont les feuilles de travail que nous utilisons dans ce cours. Cliquez sur la `Visite guidée du notebook` juste en dessous de la visite guidée de bienvenue\n",
    "\n",
    "* `Aide` -> `Visite guidée du notebook`\n",
    "\n",
    "Exécutez la visite étape par étape et découvrez les différentes fonctionnalités d'un notebook Jupyter.\n"
   ]
  },
  {
   "cell_type": "markdown",
   "id": "67fe17ea",
   "metadata": {},
   "source": [
    "# Cellule Markdown\n",
    "\n",
    "Récapitulons la visite guidée du notebook, car nous avons appris certaines fonctionnalités importantes des notebooks Jupyter.\n",
    "\n",
    "Nous utilisons deux types de cellules dans nos notebooks. Les cellules contenant du texte et des images sont appelées `Cellules Markdown`. Le nom est dérivé du langage de mise en forme **Markup** qui est utilisé dans ces cellules. Nous ne vous demandons pas de produire des cellules markdown, mais il est utile de comprendre comment elles fonctionnent.\n",
    "\n",
    "Vous pouvez changer l'état d'une cellule en utilisant le menu déroulant situé au-dessus :\n"
   ]
  },
  {
   "cell_type": "markdown",
   "id": "5ef13921",
   "metadata": {},
   "source": [
    "![](images/drop_down_menu.png)"
   ]
  },
  {
   "cell_type": "markdown",
   "id": "979b279d-1d66-4099-a059-d3ec2abc248a",
   "metadata": {},
   "source": [
    "Les instructions de formatage les plus importantes pour la syntaxe markdown sont\n",
    "\n",
    "- **Texte en gras** : `**Texte en gras**`\n",
    "- _Italique_ : `_Italique_`\n",
    "- [Hyperlien](https://github.com/ika-rwth-aachen/acdc-notebooks) : `[Hyperlien](https://github.com/ika-rwth-aachen/acdc-notebooks)`\n",
    "\n",
    "De plus, vous pouvez insérer une image dans markdown en utilisant son chemin de fichier ou un hyperlien\n",
    "\n",
    "```\n",
    "![](../assets/header_image.png):\n",
    "```\n",
    "Et vous pouvez créer des listes\n",
    "```\n",
    "- Item 1\n",
    "- Item 2\n",
    "- Item 3\n",
    "```\n",
    "\n",
    "\n",
    "Consultez l'un des [tutoriels](https://markdown-it.github.io/) disponibles publiquement pour en savoir plus sur markdown.\n"
   ]
  },
  {
   "cell_type": "markdown",
   "id": "41685f77",
   "metadata": {},
   "source": [
    "# Python\n",
    "L'autre type de cellule est la **cellule de code** où vous pouvez exécuter du code Python :\n"
   ]
  },
  {
   "cell_type": "code",
   "execution_count": null,
   "id": "6a8dc7aa",
   "metadata": {},
   "outputs": [],
   "source": [
    "# This is  a 'Code' Cell\n",
    "print(\"Hello World! I am a code cell !\")\n",
    "# This is a comment in a a code cell"
   ]
  },
  {
   "cell_type": "markdown",
   "id": "4c232443",
   "metadata": {},
   "source": [
    "Pour exécuter le code dans une cellule de code, vous avez plusieurs possibilités\n",
    "\n",
    "- **Raccourci clavier** (recommandé) : maintenez la touche <kbd>⇧ Maj</kbd> enfoncée et appuyez sur <kbd>⏎ Entrée</kbd>\n",
    "\n",
    "- **Interface utilisateur du notebook : Exécuter une seule cellule**\n",
    "    - Cliquez sur le bouton fléché ci-dessus (\"Exécuter la cellule sélectionnée et passer à la suivante\")\n",
    "    \n",
    "![](images/run_cell.png)\n",
    "\n",
    "- **Interface utilisateur du notebook : Exécuter plusieurs cellules** : Il existe de nombreuses autres options sous l'onglet `Exécuter` du menu principal\n",
    "    - Par exemple, vous pouvez exécuter toutes les cellules de haut en bas avec la commande `Exécuter toutes les cellules`\n",
    " \n",
    "![](images/run_several_cells.png)\n"
   ]
  },
  {
   "cell_type": "markdown",
   "id": "626eae9b-4a7d-483e-91ff-d65dea078c68",
   "metadata": {},
   "source": [
    "Essayons ce que nous avons appris. Exécutez les cellules de code suivantes et essayez de comprendre ce que fait le code :\n"
   ]
  },
  {
   "cell_type": "markdown",
   "id": "3cf11fce-eeea-4e31-a5a9-95ee6a4951b2",
   "metadata": {},
   "source": [
    "### Variables"
   ]
  },
  {
   "cell_type": "code",
   "execution_count": null,
   "id": "69cdc6cf-dc83-48c0-86a5-7db590292d65",
   "metadata": {},
   "outputs": [],
   "source": [
    "a = 5\n",
    "b = 10\n",
    "\n",
    "c = b / a\n",
    "print(\"a:\", a)\n",
    "print(\"b:\", b)\n",
    "print(\"c:\", c)"
   ]
  },
  {
   "cell_type": "code",
   "execution_count": null,
   "id": "2a441099-932e-49a6-aa1a-fa1a7924b564",
   "metadata": {},
   "outputs": [],
   "source": [
    "string_1 = \"Hello\"\n",
    "string_2 = \"World\"\n",
    "\n",
    "string_3 = string_1 + \" \" +  string_2\n",
    "\n",
    "print(\"string_1:\", string_1)\n",
    "print(\"string_2:\", string_2)\n",
    "print(\"string_3:\", string_3)"
   ]
  },
  {
   "cell_type": "markdown",
   "id": "0f3937b8-7bca-4c94-8a1d-17f8d61d1e65",
   "metadata": {},
   "source": [
    "### Types"
   ]
  },
  {
   "cell_type": "code",
   "execution_count": null,
   "id": "cf2b837f-6ad3-4353-9007-98d02180f62f",
   "metadata": {},
   "outputs": [],
   "source": [
    "x = str(3)    # create a string\n",
    "y = int(3)    # create an integer\n",
    "z = float(3)  # create a float\n",
    "\n",
    "print(\"x:\", x)\n",
    "print(\"y:\", y)\n",
    "print(\"z:\", z)\n",
    "\n",
    "print(\"Type of x:\", type(x))\n",
    "print(\"Type of y:\", type(y))\n",
    "print(\"Type of z:\", type(z))"
   ]
  },
  {
   "cell_type": "markdown",
   "id": "33aa6291-3264-4c3b-964c-0b7bcf8e4c49",
   "metadata": {},
   "source": [
    "### Lists"
   ]
  },
  {
   "cell_type": "code",
   "execution_count": null,
   "id": "4af53a91-bcd6-4e6a-9880-42f819c0b076",
   "metadata": {},
   "outputs": [],
   "source": [
    "my_list = []       # create an empty list\n",
    "my_list.append(x)  # append variable x from previous cell to my_list\n",
    "my_list.append(y)  # append variable y from previous cell to my_list\n",
    "my_list.append(z)  # append variable z from previous cell to my_list\n",
    "\n",
    "# loop over all elements in my_list and print them\n",
    "for element in my_list:\n",
    "    print(element)"
   ]
  },
  {
   "cell_type": "markdown",
   "id": "7b696ceb-365d-48b5-b641-3b119a5889f8",
   "metadata": {},
   "source": [
    "### Simple Loop"
   ]
  },
  {
   "cell_type": "code",
   "execution_count": null,
   "id": "958d8736-e073-42f2-ba6d-6f455f701d08",
   "metadata": {},
   "outputs": [],
   "source": [
    "for i in range(10):\n",
    "    print(i)"
   ]
  },
  {
   "cell_type": "markdown",
   "id": "3b0bb8d0-b044-4338-90b6-5a8368409913",
   "metadata": {},
   "source": [
    "### If-Else"
   ]
  },
  {
   "cell_type": "code",
   "execution_count": null,
   "id": "bd6d9f22-db46-4ed8-bc22-30b1862c73fc",
   "metadata": {},
   "outputs": [],
   "source": [
    "for i in range(10):\n",
    "    if i < 5:\n",
    "        print(\"{} is smaller than 5\".format(i))\n",
    "    elif i == 5:\n",
    "        print(\"{} is equal to 5\".format(i))\n",
    "    elif i > 5:\n",
    "        print(\"{} is bigger than 5\".format(i))"
   ]
  },
  {
   "cell_type": "markdown",
   "id": "0ffb873d-227d-4bf8-9964-edbabbd482e5",
   "metadata": {},
   "source": [
    "Ce n'étaient que quelques opérations très basiques en Python. Si vous êtes complètement novice en Python ou en programmation en général, nous vous recommandons de suivre des cours en ligne gratuits pour Python :\n",
    "- https://www.w3schools.com/python/default.asp\n"
   ]
  },
  {
   "cell_type": "markdown",
   "id": "96c6fcd5",
   "metadata": {
    "tags": []
   },
   "source": [
    "# Conclusion\n"
   ]
  },
  {
   "cell_type": "markdown",
   "id": "c518e1fe-15b2-418b-b139-57078d7903ef",
   "metadata": {},
   "source": [
    "- Vous avez appris à utiliser JupyterLab et quelles fonctionnalités sont disponibles via l'interface utilisateur\n",
    "- Vous avez appris à utiliser les notebooks Jupyter et qu'il existe des cellules de texte et des cellules de code\n",
    "- Vous avez appris des commandes de base pour le langage markdown\n",
    "- Vous avez appris comment exécuter des cellules de code dans un notebook Jupyter\n",
    "- Vous avez appris des instructions de base en Python et vous les avez exécutées dans le notebook\n"
   ]
  },
  {
   "cell_type": "markdown",
   "id": "d9ba0ce9-77cd-4838-8282-ed00f1e9649d",
   "metadata": {},
   "source": [
    "# References\n",
    "- [JupyterLab Tour](https://github.com/jupyterlab-contrib/jupyterlab-tour)"
   ]
  },
  {
   "cell_type": "code",
   "execution_count": null,
   "id": "d3ee82c3-6d98-465b-8bdb-44865ee3bed1",
   "metadata": {},
   "outputs": [],
   "source": []
  }
 ],
 "metadata": {
  "kernelspec": {
   "display_name": "Python 3 (ipykernel)",
   "language": "python",
   "name": "python3"
  },
  "language_info": {
   "codemirror_mode": {
    "name": "ipython",
    "version": 3
   },
   "file_extension": ".py",
   "mimetype": "text/x-python",
   "name": "python",
   "nbconvert_exporter": "python",
   "pygments_lexer": "ipython3",
   "version": "3.9.7"
  }
 },
 "nbformat": 4,
 "nbformat_minor": 5
}
