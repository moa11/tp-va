{
 "cells": [
  {
   "cell_type": "markdown",
   "metadata": {},
   "source": [
    "![Header Image](../assets/header_image.png \"Header Image\")"
   ]
  },
  {
   "cell_type": "markdown",
   "metadata": {},
   "source": [
    "# Tâche facultative 2 : Python, NumPy et vectorisation\n",
    "\n",
    "Cette tâche vous offre une brève introduction à certains des calculs scientifiques utilisés dans ce cours. Nous utiliserons la populaire bibliothèque NumPy qui est utilisée pour de nombreuses applications de calcul scientifique.\n",
    "\n",
    "Dans cette tâche facultative, vous apprendrez sur NumPy et d'autres compétences en Python recommandées à connaître pour les prochaines tâches. Ce notebook est recommandé aux étudiants qui n'ont aucune expérience en NumPy. Vous apprendrez sur :\n",
    "\n",
    "- Vecteurs\n",
    "- Matrices\n",
    "- Opérations sur les matrices\n",
    "- Opérations sur les vecteurs\n",
    "- Indexation\n",
    "- Accès aux éléments\n",
    "- Vectorisation\n",
    "\n",
    "Commençons par importer numpy. Exécutez la cellule ci-dessous.\n"
   ]
  },
  {
   "cell_type": "code",
   "execution_count": 1,
   "metadata": {},
   "outputs": [],
   "source": [
    "import numpy as np\n",
    "import time"
   ]
  },
  {
   "cell_type": "markdown",
   "metadata": {},
   "source": [
    "Vous pouvez voir que nous avons importé Numpy en tant que `np`. C'est l'abréviation de `numpy` et nous pouvons maintenant accéder à toutes les fonctions numpy avec `np` :\n"
   ]
  },
  {
   "cell_type": "code",
   "execution_count": 2,
   "metadata": {},
   "outputs": [
    {
     "data": {
      "text/plain": [
       "6"
      ]
     },
     "execution_count": 2,
     "metadata": {},
     "output_type": "execute_result"
    }
   ],
   "source": [
    "np.sum([1, 2, 3])"
   ]
  },
  {
   "cell_type": "markdown",
   "metadata": {},
   "source": [
    "## Références\n",
    "\n",
    "Nous ne pouvons fournir ici qu'une introduction limitée à NumPy, car cette bibliothèque est assez vaste et possède de nombreuses fonctionnalités. Consultez le lien ci-dessous si vous souhaitez en savoir plus sur cette bibliothèque :\n",
    "- Documentation de NumPy : [NumPy.org](https://NumPy.org/doc/stable/)\n"
   ]
  },
  {
   "cell_type": "markdown",
   "metadata": {},
   "source": [
    "## Python et NumPy\n",
    "\n",
    "Python est l'un des langages de programmation que nous utiliserons dans ce MOOC. Il est devenu très populaire parmi les data scientists et les ingénieurs en apprentissage automatique, car il prend en charge de nombreuses bibliothèques et outils différents tels que les cahiers Jupyter. De plus, la syntaxe est assez facile à comprendre, mais prend en charge la programmation orientée objet complète, ainsi que les opérations mathématiques de base. NumPy est une bibliothèque Python qui donne à Python la puissance fondamentale pour le calcul scientifique. Il ajoute la prise en charge de plus de types de données numériques, de vecteurs, de matrices et d'opérations de matrice. De plus, le cœur de NumPy est basé sur un code C bien optimisé qui permet des calculs rapides et efficaces.\n"
   ]
  },
  {
   "cell_type": "markdown",
   "metadata": {},
   "source": [
    "### Vecteurs, matrices et tenseurs\n",
    "\n",
    "Avant d'entrer dans les détails, commençons par rappeler comment les noms de certains objets mathématiques sont souvent utilisés en informatique.\n",
    "\n",
    "- **Vecteur** est un tableau ou un tuple avec une seule dimension (il n'y a pas de différence entre les vecteurs ligne et les vecteurs colonne).\n",
    "- **Matrice** fait référence à un tableau avec deux dimensions.\n",
    "- **Tenseur** pour des tableaux tridimensionnels ou de dimensions supérieures.\n"
   ]
  },
  {
   "cell_type": "markdown",
   "metadata": {},
   "source": [
    "# Vecteurs\n",
    "\n",
    "Un vecteur $x$ fait référence à une collection unidimensionnelle d'éléments, où tous les éléments ont le même type de données. La \"longueur\" d'un vecteur fait souvent référence au nombre de ses éléments. $\\text{len}(x) = n$ pour l'exemple ci-dessous. En utilisant Python et NumPy, nous désignons souvent la longueur le long d'une *dimension*. Les vecteurs sont représentés par des tableaux ou des tuples 1D. Chaque élément dans un tableau peut être accédé avec un index. En algèbre linéaire, les éléments d'un vecteur sont souvent indexés de $1$ à $n$, où $i=1$ désigne le premier élément $x_1$ et $n$ le dernier élément $x_n$. Cependant, dans les langages de programmation, on commence généralement à compter à partir de 0. Ainsi, le $0^{ème}$ élément $x_0$ est le premier élément dans le tableau et $x_{n-1}$ est le dernier élément.\n",
    "\n",
    "NumPy et Python ainsi que d'autres langages de programmation :\n",
    "\n",
    "$$\n",
    "x =\n",
    "\\begin{pmatrix} \n",
    "x_{0}  \\\\\n",
    "x_{1}  \\\\\n",
    "...        \\\\\n",
    "x_{n-1} \\\\\n",
    "\\end{pmatrix}\n",
    "$$\n",
    "\n",
    "Notation mathématique typique :\n",
    "\n",
    "$$\n",
    "x =\n",
    "\\begin{pmatrix} \n",
    "x_{1}  \\\\\n",
    "x_{2}  \\\\\n",
    "...        \\\\\n",
    "x_{n} \\\\\n",
    "\\end{pmatrix}\n",
    "$$\n"
   ]
  },
  {
   "cell_type": "markdown",
   "metadata": {},
   "source": [
    "## Représentation vectorielle NumPy\n",
    "\n",
    "En utilisant NumPy, nous sommes capables de créer des vecteurs, qui sont indexables et contiennent des éléments du même type de données (`dtype`). Habituellement, ces vecteurs sont également désignés comme des tableaux unidimensionnels ou 1-D, car ils n'ont qu'une seule dimension indexée, comme expliqué ci-dessus. Un vecteur dans NumPy a les propriétés suivantes :\n",
    "\n",
    "- Tableau 1-D\n",
    "- Forme (n,)\n",
    "- n éléments\n",
    "- Premier élément indexé [0]\n",
    "- Dernier élément indexé [n-1]\n"
   ]
  },
  {
   "cell_type": "markdown",
   "metadata": {},
   "source": [
    "## Vector Creation\n"
   ]
  },
  {
   "cell_type": "markdown",
   "metadata": {},
   "source": [
    "NumPy fournit quelques fonctions utiles pour créer des tableaux remplis de zéros, de uns ou de valeurs aléatoires. Ces tableaux peuvent ensuite être utilisés pour les remplir avec les valeurs désirées. Certaines des fonctions les plus importantes sont présentées ci-dessous. Notez que l'entrée de ces fonctions définit la forme du vecteur généré.\n"
   ]
  },
  {
   "cell_type": "code",
   "execution_count": 3,
   "metadata": {},
   "outputs": [
    {
     "name": "stdout",
     "output_type": "stream",
     "text": [
      "a = np.zeros(4)\n",
      "a = [0. 0. 0. 0.]\n",
      "a shape = (4,)\n",
      "a data type = float64\n",
      "\n",
      "\n",
      "a = np.zeros((4,))\n",
      "a = [0. 0. 0. 0.]\n",
      "a shape = (4,)\n",
      "a data type = float64\n",
      "\n",
      "\n",
      "a = np.ones((4, 4))\n",
      "a = \n",
      "[[1. 1. 1. 1.]\n",
      " [1. 1. 1. 1.]\n",
      " [1. 1. 1. 1.]\n",
      " [1. 1. 1. 1.]]\n",
      "a shape = (4, 4)\n",
      "a data type = float64\n",
      "\n",
      "\n",
      "a = np.random.random_sample(5)\n",
      "a = [0.28869465 0.66169719 0.11749079 0.50732435 0.11617478]\n",
      "a shape = (5,)\n",
      "a data type = float64\n",
      "\n",
      "\n",
      "a = np.random.rand(4): \n",
      "a = [0.06785305 0.7843115  0.3232037  0.42970331], \n",
      "a shape = (4,), \n",
      "a data type = float64\n"
     ]
    }
   ],
   "source": [
    "a = np.zeros(4)\n",
    "print(f\"a = np.zeros(4)\\na = {a}\\na shape = {a.shape}\\na data type = {a.dtype}\")\n",
    "print(\"\\n\")\n",
    "\n",
    "a = np.zeros((4,))\n",
    "print(f\"a = np.zeros((4,))\\na = {a}\\na shape = {a.shape}\\na data type = {a.dtype}\")\n",
    "print(\"\\n\")\n",
    "\n",
    "# not a vector, but a matrix of shape 4x4\n",
    "a = np.ones((4, 4))\n",
    "print(f\"a = np.ones((4, 4))\\na = \\n{a}\\na shape = {a.shape}\\na data type = {a.dtype}\")\n",
    "print(\"\\n\")\n",
    "\n",
    "a = np.random.random_sample(5)\n",
    "print(f\"a = np.random.random_sample(5)\\na = {a}\\na shape = {a.shape}\\na data type = {a.dtype}\")\n",
    "print(\"\\n\")\n",
    "\n",
    "a = np.random.rand(4)\n",
    "print(f\"a = np.random.rand(4): \\na = {a}, \\na shape = {a.shape}, \\na data type = {a.dtype}\")"
   ]
  },
  {
   "cell_type": "markdown",
   "metadata": {},
   "source": [
    "### Nous pouvons également créer des séquences :\n"
   ]
  },
  {
   "cell_type": "code",
   "execution_count": 4,
   "metadata": {},
   "outputs": [
    {
     "name": "stdout",
     "output_type": "stream",
     "text": [
      "a = np.arange(4.):     \n",
      "a = [0. 1. 2. 3.], \n",
      "a shape = (4,), \n",
      "a data type = float64\n",
      "\n",
      "a = np.arange(4):     \n",
      "a = [0 1 2 3], \n",
      "a shape = (4,), \n",
      "a data type = int64\n"
     ]
    }
   ],
   "source": [
    "# we generate float64 values\n",
    "a = np.arange(4.)\n",
    "print(f\"a = np.arange(4.):     \\na = {a}, \\na shape = {a.shape}, \\na data type = {a.dtype}\\n\")\n",
    "\n",
    "# we generate int64 values\n",
    "a = np.arange(4)\n",
    "print(f\"a = np.arange(4):     \\na = {a}, \\na shape = {a.shape}, \\na data type = {a.dtype}\")"
   ]
  },
  {
   "cell_type": "markdown",
   "metadata": {},
   "source": [
    "### Nous pouvons également créer des vecteurs avec des valeurs personnalisées :\n"
   ]
  },
  {
   "cell_type": "code",
   "execution_count": 5,
   "metadata": {},
   "outputs": [
    {
     "name": "stdout",
     "output_type": "stream",
     "text": [
      "a = np.array([5,7,3,5])  \n",
      "a = [5 7 3 5]     \n",
      "a shape = (4,) \n",
      "a data type = int64\n",
      "\n",
      "\n",
      "a = np.array([5.,4,3,10])\n",
      "a = [ 5.  4.  3. 10.] \n",
      "a shape = (4,) \n",
      "a data type = float64\n"
     ]
    }
   ],
   "source": [
    "a = np.array([5,7,3,5])\n",
    "print(f\"a = np.array([5,7,3,5])  \\na = {a}     \\na shape = {a.shape} \\na data type = {a.dtype}\")\n",
    "print(\"\\n\")\n",
    "\n",
    "a = np.array([5.,4,3,10])\n",
    "print(f\"a = np.array([5.,4,3,10])\\na = {a} \\na shape = {a.shape} \\na data type = {a.dtype}\")"
   ]
  },
  {
   "cell_type": "markdown",
   "metadata": {},
   "source": [
    "Rappelez-vous qu'une forme avec `a.shape = (4,)` indique que le tableau créé est un tableau 1-D.\n"
   ]
  },
  {
   "cell_type": "markdown",
   "metadata": {},
   "source": [
    "## Opérations sur les vecteurs\n",
    "\n",
    "### Indexation des vecteurs\n",
    "Les éléments des vecteurs peuvent être accédés via l'indexation et le découpage. NumPy fournit un ensemble très riche de possibilités d'indexation et de découpage. Nous ne pouvons couvrir qu'une petite partie de la syntaxe dans ce tutoriel. Si vous souhaitez obtenir une connaissance approfondie, veuillez lire la documentation officielle sur [Slicing and Indexing](https://NumPy.org/doc/stable/reference/arrays.indexing.html). Maintenant, nous voulons clarifier la différence entre *l'indexation* et *le découpage*.\n",
    "\n",
    "* **L'indexation** signifie faire référence à *un seul élément* d'un tableau par sa position dans le tableau.\n",
    "* **Le découpage** signifie obtenir un *sous-ensemble* d'éléments d'un tableau en fonction de leurs indices ou de leur plage d'indices.\n",
    "\n",
    "N'oubliez pas que NumPy commence l'indexation à zéro, donc le 1er élément d'un vecteur $a$ est `a[0]`.\n",
    "NumPy offre une manière pratique d'accéder au dernier élément d'un tableau sans récupérer $n$ à chaque fois : vous pouvez accéder au dernier élément de $a$ avec `a[-1]`.\n"
   ]
  },
  {
   "cell_type": "code",
   "execution_count": 6,
   "metadata": {},
   "outputs": [
    {
     "name": "stdout",
     "output_type": "stream",
     "text": [
      "a =  [0 1 2 3 4 5 6 7 8 9]\n",
      "a[2].shape: () a[2]  = 2 Accessing an element returns a scalar\n",
      "a[-1] = 9\n",
      "a =  [200   1   2   3   4   5   6   7   8 100]\n",
      "The error message you'll see is:\n",
      "index 10 is out of bounds for axis 0 with size 10\n"
     ]
    }
   ],
   "source": [
    "a = np.arange(10)\n",
    "print(\"a = \", a)\n",
    "\n",
    "#access a single element\n",
    "print(f\"a[2].shape: {a[2].shape} a[2]  = {a[2]} Accessing an element returns a scalar\")\n",
    "\n",
    "# access the last element, negative indexes count from the end\n",
    "print(f\"a[-1] = {a[-1]}\")\n",
    "\n",
    "# manipulate a single element in a\n",
    "a[9] = 100\n",
    "a[0] = 200\n",
    "print(\"a = \", a)\n",
    "\n",
    "#indexs must be within the range of the vector or NumPy will throw a out of bounds error\n",
    "try:\n",
    "    c = a[10]\n",
    "except Exception as e:\n",
    "    print(\"The error message you'll see is:\")\n",
    "    print(e)"
   ]
  },
  {
   "cell_type": "markdown",
   "metadata": {},
   "source": [
    "### Découpage de vecteur\n",
    "Le découpage récupère les éléments d'un tableau en utilisant la syntaxe `début:fin:pas`. Jetons un coup d'œil aux exemples suivants.\n"
   ]
  },
  {
   "cell_type": "code",
   "execution_count": 7,
   "metadata": {},
   "outputs": [
    {
     "name": "stdout",
     "output_type": "stream",
     "text": [
      "a        =  [0 1 2 3 4 5 6 7 8 9]\n",
      "a[2:7:1] =  [2 3 4 5 6]\n",
      "a[2:7:2] =  [2 4 6]\n",
      "a[3:]    =  [3 4 5 6 7 8 9]\n",
      "a[:3]    =  [0 1 2]\n",
      "a[:]     =  [0 1 2 3 4 5 6 7 8 9]\n"
     ]
    }
   ],
   "source": [
    "a = np.arange(10)\n",
    "print(f\"a        =  {a}\")\n",
    "\n",
    "#access 5 consecutive elements (start:stop:step)\n",
    "c = a[2:7:1];     print(\"a[2:7:1] = \", c)\n",
    "\n",
    "# access 3 elements with a step size of 2\n",
    "c = a[2:7:2];     print(\"a[2:7:2] = \", c)\n",
    "\n",
    "# access all elements beginning from index 3 to the end\n",
    "c = a[3:];        print(\"a[3:]    = \", c)\n",
    "\n",
    "# access all elements below index 3\n",
    "c = a[:3];        print(\"a[:3]    = \", c)\n",
    "\n",
    "# access all elements\n",
    "c = a[:];         print(\"a[:]     = \", c)"
   ]
  },
  {
   "cell_type": "markdown",
   "metadata": {},
   "source": [
    "### Mathematical Vector Operations"
   ]
  },
  {
   "cell_type": "markdown",
   "metadata": {},
   "source": [
    "### Opérations sur un seul vecteur\n",
    "Il existe un certain nombre d'opérations utiles qui impliquent des opérations sur un seul vecteur.\n"
   ]
  },
  {
   "cell_type": "code",
   "execution_count": 8,
   "metadata": {},
   "outputs": [
    {
     "name": "stdout",
     "output_type": "stream",
     "text": [
      "a             : [1 2 3 4]\n",
      "b = -a        : [-1 -2 -3 -4]\n",
      "b = np.sum(a) : 10\n",
      "b = np.mean(a): 2.5\n",
      "b = a**2      : [ 1  4  9 16]\n"
     ]
    }
   ],
   "source": [
    "a = np.array([1,2,3,4])\n",
    "print(f\"a             : {a}\")\n",
    "\n",
    "# negate elements of a\n",
    "b = -a \n",
    "print(f\"b = -a        : {b}\")\n",
    "\n",
    "# sum all elements of a, returns a scalar\n",
    "b = np.sum(a) \n",
    "print(f\"b = np.sum(a) : {b}\")\n",
    "\n",
    "b = np.mean(a)\n",
    "print(f\"b = np.mean(a): {b}\")\n",
    "\n",
    "b = a**2\n",
    "print(f\"b = a**2      : {b}\")"
   ]
  },
  {
   "cell_type": "markdown",
   "metadata": {},
   "source": [
    "### Opérations élément par élément entre vecteurs\n",
    "La plupart des opérations arithmétiques, logiques et de comparaison de NumPy s'appliquent également aux vecteurs. Ces opérateurs fonctionnent sur une base élément par élément. Par exemple \n",
    "$$ c_i = a_i + b_i $$\n"
   ]
  },
  {
   "cell_type": "code",
   "execution_count": 9,
   "metadata": {},
   "outputs": [
    {
     "name": "stdout",
     "output_type": "stream",
     "text": [
      "Binary operators work element-wise: [2 4 0 0]\n"
     ]
    }
   ],
   "source": [
    "a = np.array([ 1, 2, 3, 4])\n",
    "b = np.array([-1,-2, 3, 4])\n",
    "print(f\"Binary operators work element-wise: {a - b}\")"
   ]
  },
  {
   "cell_type": "markdown",
   "metadata": {},
   "source": [
    "Notez que de nombreuses opérations nécessitent les mêmes formes exactes pour leurs deux opérandes.\n"
   ]
  },
  {
   "cell_type": "markdown",
   "metadata": {},
   "source": [
    "Bien sûr, pour que cela fonctionne correctement, les vecteurs doivent être de la même taille :\n"
   ]
  },
  {
   "cell_type": "code",
   "execution_count": 10,
   "metadata": {
    "tags": []
   },
   "outputs": [
    {
     "name": "stdout",
     "output_type": "stream",
     "text": [
      "The error message you'll see is:\n",
      "operands could not be broadcast together with shapes (4,) (2,) \n"
     ]
    }
   ],
   "source": [
    "c = np.array([1, 2])\n",
    "a = np.array([1, 2, 3, 4])\n",
    "\n",
    "try:\n",
    "    d = a + c\n",
    "except Exception as e:\n",
    "    print(\"The error message you'll see is:\")\n",
    "    print(e)"
   ]
  },
  {
   "cell_type": "markdown",
   "metadata": {},
   "source": [
    "Nous pouvons également combiner des scalaires avec des tableaux :\n"
   ]
  },
  {
   "cell_type": "markdown",
   "metadata": {},
   "source": [
    "### Opérations scalaire-vecteur\n",
    "Les vecteurs peuvent être 'mis à l'échelle' par des valeurs scalaires. Une valeur scalaire est simplement un nombre. Le scalaire multiplie tous les éléments du vecteur.\n"
   ]
  },
  {
   "cell_type": "code",
   "execution_count": 11,
   "metadata": {},
   "outputs": [
    {
     "name": "stdout",
     "output_type": "stream",
     "text": [
      "b = 5 * a : [ 5 10 15 20]\n"
     ]
    }
   ],
   "source": [
    "a = np.array([1, 2, 3, 4])\n",
    "\n",
    "b = 5 * a \n",
    "\n",
    "print(f\"b = 5 * a : {b}\")"
   ]
  },
  {
   "cell_type": "markdown",
   "metadata": {},
   "source": [
    "### Vectorisation : Produit scalaire de vecteurs\n",
    "Nous voulons tester l'efficacité de la vectorisation en implémentant un produit scalaire de vecteurs entre deux tableaux $a$ et $b$ :\n",
    "\n",
    "$$\n",
    "a \\cdot b = \\sum^{n-1}_{i=0} a_i b_i\n",
    "$$\n",
    "\n",
    "Nous allons implémenter la fonction de trois manières :\n",
    "\n",
    "* **Boucle explicite** : Itérer sur tous les éléments des vecteurs et utiliser l'indexation pour récupérer les éléments, puis effectuer la multiplication et l'addition.\n",
    "* **Fonction intégrée de NumPy** : Utiliser les fonctions intégrées de NumPy `np.dot`.\n",
    "* **Vectorisation manuelle de NumPy** : Utiliser la fonction de NumPy pour implémenter une propre version d'une fonction `np.dot` vectorisée.\n",
    "\n",
    "Le produit scalaire de vecteurs nécessite que les dimensions des deux vecteurs soient les mêmes.\n"
   ]
  },
  {
   "cell_type": "markdown",
   "metadata": {},
   "source": [
    "Implémentons notre propre version du produit scalaire ci-dessous :\n",
    "\n",
    "**En utilisant une boucle for**, implémentez une fonction qui renvoie le produit scalaire de deux vecteurs. La fonction doit retourner, pour les entrées données $a$ et $b$ :\n",
    "$$ x = \\sum_{i=0}^{n-1} a_i b_i $$\n",
    "Supposez que `a` et `b` ont la même forme.\n"
   ]
  },
  {
   "cell_type": "code",
   "execution_count": 12,
   "metadata": {},
   "outputs": [],
   "source": [
    "def dot_vectorized(a, b):\n",
    "    \"\"\"\n",
    "    Compute the dot product of two vectors\n",
    "    Arguments:\n",
    "        a: numpy nd array with length n\n",
    "        b: numpy nd array with length n\n",
    "    Returns:\n",
    "        x: dot product of a and b as scalar\n",
    "    \"\"\"\n",
    "    return np.sum(a*b)"
   ]
  },
  {
   "cell_type": "code",
   "execution_count": 13,
   "metadata": {},
   "outputs": [],
   "source": [
    "def dot_loop(a, b): \n",
    "    \"\"\"\n",
    "    Compute the dot product of two vectors\n",
    "    Arguments:\n",
    "        a: numpy nd array with length n\n",
    "        b: numpy nd array with length n\n",
    "    Returns:\n",
    "        x: dot product of a and b as scalar\n",
    "    \"\"\"\n",
    "    x = 0\n",
    "    for i in range(a.shape[0]):\n",
    "        x = x + a[i] * b[i]\n",
    "    return x"
   ]
  },
  {
   "cell_type": "code",
   "execution_count": 14,
   "metadata": {},
   "outputs": [
    {
     "name": "stdout",
     "output_type": "stream",
     "text": [
      "Function: dot_loop(a, b) \t = 38\n",
      "Function: dot_vectorized(a, b) \t = 38\n",
      "NumPy Build-In: np.dot(a, b) \t = 38\n"
     ]
    }
   ],
   "source": [
    "a = np.array([5, 3, 2, 1])\n",
    "b = np.array([-1, 9, 7, 2])\n",
    "print(f\"Function: dot_loop(a, b) \\t = {dot_loop(a, b)}\")\n",
    "\n",
    "# Function dot_vectorized\n",
    "c = dot_vectorized(a, b)\n",
    "print(f\"Function: dot_vectorized(a, b) \\t = {dot_loop(a, b)}\")\n",
    "\n",
    "# Build in numpy's dot function\n",
    "c = np.dot(a, b)\n",
    "print(f\"NumPy Build-In: np.dot(a, b) \\t = {c}\") "
   ]
  },
  {
   "cell_type": "markdown",
   "metadata": {},
   "source": [
    "Vous pouvez voir que l'implémentation dans `dot_loop()` correspond aux résultats de `dot_vectorized()` et `np.dot()`.\n"
   ]
  },
  {
   "cell_type": "markdown",
   "metadata": {},
   "source": [
    "Maintenant, mesurons le **temps** nécessaire à chaque fonction pour calculer deux vecteurs très volumineux.\n"
   ]
  },
  {
   "cell_type": "markdown",
   "metadata": {},
   "source": [
    "### Comparaison de vitesse : Vectorisation vs Boucle vs Fonction intégrée\n",
    "Maintenant, créons deux vecteurs énormes et mesurons le temps nécessaire à chaque approche pour calculer le produit scalaire.\n"
   ]
  },
  {
   "cell_type": "code",
   "execution_count": 15,
   "metadata": {},
   "outputs": [
    {
     "name": "stdout",
     "output_type": "stream",
     "text": [
      "np.dot(a, b) =\t\t\t 2499424.8578\n",
      "Build-In Function: \t\t 4.9131 ms \n",
      "\n",
      "\n",
      "dot_vectorized(a, b) =\t\t 2499424.8578\n",
      "Function dot_vectorized(a, b): \t 24.7719 ms \n",
      "\n",
      "\n",
      "dot_loop(a, b) =\t\t 2499424.8578\n",
      "Function dot_loop(a, b): \t 1743.6838 ms \n"
     ]
    }
   ],
   "source": [
    "np.random.seed(1337)\n",
    "a = np.random.rand(10000000) \n",
    "b = np.random.rand(10000000)\n",
    "\n",
    "\n",
    "tic = time.time()  # capture start time\n",
    "c = np.dot(a, b)\n",
    "toc = time.time()  # capture end time\n",
    "print(f\"np.dot(a, b) =\\t\\t\\t {c:.4f}\")\n",
    "print(f\"Build-In Function: \\t\\t {1000*(toc-tic):.4f} ms \")\n",
    "print(\"\\n\")\n",
    "\n",
    "\n",
    "\n",
    "tic = time.time()  # capture start time\n",
    "c = dot_vectorized(a, b)\n",
    "toc = time.time()  # capture end time\n",
    "print(f\"dot_vectorized(a, b) =\\t\\t {c:.4f}\")\n",
    "print(f\"Function dot_vectorized(a, b): \\t {1000*(toc-tic):.4f} ms \")\n",
    "print(\"\\n\")\n",
    "\n",
    "\n",
    "\n",
    "tic = time.time()  # capture start time\n",
    "c = dot_loop(a,b)\n",
    "toc = time.time()  # capture end time\n",
    "print(f\"dot_loop(a, b) =\\t\\t {c:.4f}\")\n",
    "print(f\"Function dot_loop(a, b): \\t {1000*(toc-tic):.4f} ms \")\n",
    "\n",
    "\n",
    "del(a);del(b)  # remove arrays from memory"
   ]
  },
  {
   "cell_type": "markdown",
   "metadata": {},
   "source": [
    "Comme vous pouvez le constater, l'implémentation vectorisée intégrée offre des performances bien meilleures que la boucle manuelle. Le code vectorisé manuel dans `dot_vectorized` fonctionne également bien, mais un peu plus lentement que la fonction intégrée.\n",
    "\n",
    "Le code vectorisé s'exécute plus rapidement car il utilise mieux le parallélisme des données disponibles dans le matériel sous-jacent. Les GPU et les CPU modernes mettent en œuvre des pipelines Single Instruction, Multiple Data (SIMD) permettant à plusieurs opérations d'être calculées en parallèle.\n"
   ]
  },
  {
   "cell_type": "code",
   "execution_count": 16,
   "metadata": {},
   "outputs": [
    {
     "name": "stdout",
     "output_type": "stream",
     "text": [
      "X[1] has shape (1,)\n",
      "w has shape (1,)\n",
      "c has shape ()\n"
     ]
    }
   ],
   "source": [
    "X = np.array([[1],[2],[3],[4]])\n",
    "w = np.array([2])\n",
    "c = np.dot(X[1], w)\n",
    "\n",
    "print(f\"X[1] has shape {X[1].shape}\")\n",
    "print(f\"w has shape {w.shape}\")\n",
    "print(f\"c has shape {c.shape}\")"
   ]
  },
  {
   "cell_type": "markdown",
   "metadata": {},
   "source": [
    "# Matrices\n"
   ]
  },
  {
   "cell_type": "markdown",
   "metadata": {},
   "source": [
    "Les matrices sont des tableaux avec deux dimensions. Encore une fois, les éléments d'une matrice sont tous du même type. Nous utilisons généralement une lettre majuscule par exemple $X$ pour indiquer que cette variable est une matrice. De plus, nous fixons généralement `m` comme le nombre de lignes et `n` comme le nombre de colonnes. Les éléments d'une matrice peuvent être référencés avec un index bidimensionnel. Tout comme pour les vecteurs, nous commençons à l'index 0 lorsque nous programmons avec des matrices.\n",
    "\n",
    "NumPy et Python ainsi que d'autres langages de programmation avec un index commençant à 0 :\n",
    "$$\n",
    "X =\n",
    "\\begin{pmatrix} \n",
    "X_{00} & X_{01} & ... & X_{0 (n-1)} \\\\\n",
    "X_{10} & X_{11} & ... & X_{1 (n-1)} \\\\\n",
    "...    & ...    & ... & ...         \\\\\n",
    "X_{(m-1)0} & X_{(m-1)1} & ... & X_{(m-1) (n-1)} \\\\\n",
    "\\end{pmatrix}\n",
    "$$\n",
    "\n",
    "\n",
    "Notation en cours de mathématiques avec un index commençant à $1$ :\n",
    "$$\n",
    "X =\n",
    "\\begin{pmatrix} \n",
    "X_{11} & X_{12} & ... & X_{1n} \\\\\n",
    "X_{21} & X_{22} & ... & X_{1n} \\\\\n",
    "...    & ...    & ... & ...    \\\\\n",
    "X_{m1} & X_{m2} & ... & X_{mn} \\\\\n",
    "\\end{pmatrix}\n",
    "$$\n"
   ]
  },
  {
   "cell_type": "markdown",
   "metadata": {},
   "source": [
    "### Création de matrices\n",
    "Les mêmes fonctions que celles que nous avons utilisées ci-dessus pour créer des vecteurs 1-D créeront également des tableaux 2-D ou n-D.\n",
    "\n",
    "Remarquez que nous fournissons maintenant un tuple comme forme, par exemple `(1, 5)`. Cela signifie que, pour chaque dimension, nous fournissons le nombre d'indices qui doivent être générés. Pour `(1, 5)`, nous générons uniquement un indice dans la première dimension et pour la deuxième dimension, nous créerons 5 indices.\n"
   ]
  },
  {
   "cell_type": "code",
   "execution_count": 17,
   "metadata": {},
   "outputs": [
    {
     "name": "stdout",
     "output_type": "stream",
     "text": [
      "a shape = (1, 5)\n",
      "a = [[0. 0. 0. 0. 0.]]\n",
      "\n",
      "a shape = (2, 1)\n",
      "a = \n",
      "[[0.]\n",
      " [0.]]\n",
      "\n",
      "a shape = (7, 5)\n",
      "a = \n",
      "[[1. 1. 1. 1. 1.]\n",
      " [1. 1. 1. 1. 1.]\n",
      " [1. 1. 1. 1. 1.]\n",
      " [1. 1. 1. 1. 1.]\n",
      " [1. 1. 1. 1. 1.]\n",
      " [1. 1. 1. 1. 1.]\n",
      " [1. 1. 1. 1. 1.]]\n",
      "\n",
      "a shape = (2, 7)\n",
      "a = \n",
      "[[7. 7. 7. 7. 7. 7. 7.]\n",
      " [7. 7. 7. 7. 7. 7. 7.]]\n",
      "\n",
      "a shape = (1, 1)\n",
      "a = [[0.61731462]]\n"
     ]
    }
   ],
   "source": [
    "a = np.zeros((1, 5))                                       \n",
    "print(f\"a shape = {a.shape}\")\n",
    "print(f\"a = {a}\\n\")                     \n",
    "\n",
    "\n",
    "a = np.zeros((2, 1))                                                                   \n",
    "print(f\"a shape = {a.shape}\")\n",
    "print(f\"a = \\n{a}\\n\") \n",
    "\n",
    "\n",
    "a = np.ones((7, 5))                                                                   \n",
    "print(f\"a shape = {a.shape}\")\n",
    "print(f\"a = \\n{a}\\n\") \n",
    "\n",
    "\n",
    "a = np.ones((2, 7)) * 7                                                                \n",
    "print(f\"a shape = {a.shape}\")\n",
    "print(f\"a = \\n{a}\\n\") \n",
    "\n",
    "\n",
    "a = np.random.random_sample((1, 1))  \n",
    "print(f\"a shape = {a.shape}\")\n",
    "print(f\"a = {a}\") "
   ]
  },
  {
   "cell_type": "markdown",
   "metadata": {},
   "source": [
    "Vous pouvez également spécifier manuellement les éléments de la matrice. Remarquez que les crochets doivent correspondre à la convention d'impression ci-dessus.\n"
   ]
  },
  {
   "cell_type": "code",
   "execution_count": 18,
   "metadata": {},
   "outputs": [
    {
     "name": "stdout",
     "output_type": "stream",
     "text": [
      "a shape = (3, 1)\n",
      "np.array: a = \n",
      "[[5]\n",
      " [4]\n",
      " [3]] \n",
      "\n",
      "a shape = (3, 1)\n",
      "np.array: a = \n",
      "[[5]\n",
      " [4]\n",
      " [3]]\n"
     ]
    }
   ],
   "source": [
    "a = np.array([[5], [4], [3]])\n",
    "print(f\"a shape = {a.shape}\")\n",
    "print(f\"np.array: a = \\n{a} \\n\")\n",
    "\n",
    "\n",
    "# You can also continue the next line for better readability\n",
    "a = np.array([[5],   \n",
    "              [4],   \n",
    "              [3]])\n",
    "print(f\"a shape = {a.shape}\")\n",
    "print(f\"np.array: a = \\n{a}\")"
   ]
  },
  {
   "cell_type": "markdown",
   "metadata": {},
   "source": [
    "### Indexing\n"
   ]
  },
  {
   "cell_type": "markdown",
   "metadata": {},
   "source": [
    "Les matrices utilisent deux indices, car nous avons deux dimensions. Vous pouvez accéder à un élément de la matrice en utilisant $[i,j] \\; \\forall 0<i<n-1 \\;, 0<j<m-1$. Cela signifie que le premier indice définit la ligne et le deuxième indice définit la colonne $[ligne, colonne]$.\n"
   ]
  },
  {
   "cell_type": "code",
   "execution_count": 19,
   "metadata": {},
   "outputs": [
    {
     "name": "stdout",
     "output_type": "stream",
     "text": [
      "a.shape: (3, 2)\n",
      "a= \n",
      "[[0 1]\n",
      " [2 3]\n",
      " [4 5]]\n",
      "\n",
      "Access an element in the matrix:\n",
      "a[2,0].shape: ()\n",
      "a[2,0] = 4\n",
      "type(a[2,0]) = <class 'numpy.int64'>\n",
      "Accessing an element returns a scalar\n",
      "\n",
      "Access a row in the matrix:\n",
      "a[2].shape: (2,)\n",
      "a[2] = [4 5]\n",
      "type(a[2]): = <class 'numpy.ndarray'>\n"
     ]
    }
   ],
   "source": [
    "a = np.arange(6).reshape(-1, 2)   #reshape is a convenient way to create matrices\n",
    "print(f\"a.shape: {a.shape}\")\n",
    "print(f\"a= \\n{a}\\n\")\n",
    "\n",
    "print(\"Access an element in the matrix:\")\n",
    "print(f\"a[2,0].shape: {a[2, 0].shape}\")\n",
    "print(f\"a[2,0] = {a[2, 0]}\")\n",
    "print(f\"type(a[2,0]) = {type(a[2, 0])}\\nAccessing an element returns a scalar\\n\")\n",
    "\n",
    "print(\"Access a row in the matrix:\")\n",
    "print(f\"a[2].shape: {a[2].shape}\")\n",
    "print(f\"a[2] = {a[2]}\")\n",
    "print(f\"type(a[2]): = {type(a[2])}\")"
   ]
  },
  {
   "cell_type": "markdown",
   "metadata": {},
   "source": [
    "Il convient de souligner le dernier exemple. Accéder à une matrice en spécifiant simplement la ligne renverra un *vecteur 1-D*.\n"
   ]
  },
  {
   "cell_type": "markdown",
   "metadata": {},
   "source": [
    "### Reshape \n",
    "\n",
    "Nous pouvons également [remodeler](https://numpy.org/doc/stable/reference/generated/numpy.reshape.html) les tableaux dans une nouvelle forme. Cela signifie que nous pouvons remodeler un tableau 1-D en un tableau 2-D et vice versa.\n"
   ]
  },
  {
   "cell_type": "code",
   "execution_count": 20,
   "metadata": {},
   "outputs": [
    {
     "name": "stdout",
     "output_type": "stream",
     "text": [
      "a = \n",
      " [[0 1]\n",
      " [2 3]\n",
      " [4 5]]\n",
      "a.shape = (3, 2) \n",
      "\n",
      "a = \n",
      " [[0 1]\n",
      " [2 3]\n",
      " [4 5]]\n",
      "a.shape = (3, 2) \n",
      "\n",
      "a = \n",
      " [1. 1. 1. 1. 1. 1.]\n",
      "a.shape = (6,) \n",
      "\n"
     ]
    }
   ],
   "source": [
    "a = np.arange(6).reshape(-1, 2)\n",
    "print(\"a = \\n\", a)\n",
    "print(\"a.shape =\",a.shape, \"\\n\")\n",
    "\n",
    "a = np.arange(6).reshape(3, 2)\n",
    "print(\"a = \\n\", a)\n",
    "print(\"a.shape =\",a.shape, \"\\n\")\n",
    "\n",
    "a = np.ones((2, 3)).reshape(-1)\n",
    "print(\"a = \\n\", a)\n",
    "print(\"a.shape =\",a.shape, \"\\n\")"
   ]
  },
  {
   "cell_type": "markdown",
   "metadata": {},
   "source": [
    "Notez que l'argument -1 indique à cette fonction de déterminer automatiquement le nombre de cette dimension en fonction de la taille du tableau et du nombre des autres dimensions.\n"
   ]
  },
  {
   "cell_type": "markdown",
   "metadata": {},
   "source": [
    "### Découpage\n",
    "Le découpage sur un tableau 2-D crée un nouveau tableau 1-D ou un tableau 2-D en fonction de l'utilisation de `début:fin:pas` appliqué sur chaque dimension.\n"
   ]
  },
  {
   "cell_type": "code",
   "execution_count": 21,
   "metadata": {},
   "outputs": [
    {
     "name": "stdout",
     "output_type": "stream",
     "text": [
      "a = \n",
      "[[ 0  1  2  3  4  5  6  7  8  9]\n",
      " [10 11 12 13 14 15 16 17 18 19]]\n",
      "\n",
      "a[0, 2:7:1] =  [2 3 4 5 6]\n",
      "a[0, 2:7:1].shape = (5,) a 1-D array \n",
      "\n",
      "\n",
      "a[:, 2:7:1] = \n",
      " [[ 2  3  4  5  6]\n",
      " [12 13 14 15 16]]\n",
      "a[:, 2:7:1].shape = (2, 5) a 2-D array \n",
      "\n",
      "a[:,:] = \n",
      " [[ 0  1  2  3  4  5  6  7  8  9]\n",
      " [10 11 12 13 14 15 16 17 18 19]]\n",
      "a[:,:].shape = (2, 10) a 2-D array\n",
      "\n",
      "a[1,:] =  [10 11 12 13 14 15 16 17 18 19]\n",
      "a[1,:].shape = (10,) a 1-D array\n",
      "\n",
      "a[1]   =  [10 11 12 13 14 15 16 17 18 19]\n",
      "a[1].shape   = (10,) a 1-D array\n"
     ]
    }
   ],
   "source": [
    "#vector 2-D slicing operations\n",
    "a = np.arange(20).reshape(-1, 10)\n",
    "print(f\"a = \\n{a}\")\n",
    "\n",
    "#access 5 consecutive elements (start:stop:step)\n",
    "print(\"\\na[0, 2:7:1] = \", a[0, 2:7:1])\n",
    "print(\"a[0, 2:7:1].shape =\", a[0, 2:7:1].shape, \"a 1-D array \\n\")\n",
    "\n",
    "#access 5 consecutive elements (start:stop:step) in two rows\n",
    "print(\"\\na[:, 2:7:1] = \\n\", a[:, 2:7:1])\n",
    "print(\"a[:, 2:7:1].shape =\", a[:, 2:7:1].shape, \"a 2-D array \\n\")\n",
    "\n",
    "# access all elements\n",
    "print(\"a[:,:] = \\n\", a[:,:])\n",
    "print(\"a[:,:].shape =\", a[:,:].shape, \"a 2-D array\")\n",
    "\n",
    "\n",
    "# access all elements in one row (very common usage)\n",
    "print(\"\\na[1,:] = \", a[1,:])\n",
    "print(\"a[1,:].shape =\", a[1,:].shape, \"a 1-D array\")\n",
    "\n",
    "# same as\n",
    "print(\"\\na[1]   = \", a[1])\n",
    "print(\"a[1].shape   =\", a[1].shape, \"a 1-D array\")"
   ]
  },
  {
   "cell_type": "markdown",
   "metadata": {},
   "source": [
    "# Tâche : Erreur quadratique moyenne\n",
    "Maintenant, pratiquons vos compétences que vous venez d'apprendre dans ce cahier. Implémentez la moyenne quadratique suivante\n",
    "\n",
    "$$\n",
    "L(\\vec{a}, \\vec{b}) = \\frac{1}{n} \\sum^{n-1}_{i=0} (a_i - b_i)^2\n",
    "$$\n",
    "\n",
    "pour deux vecteurs de deux manières\n",
    " \n",
    "- Implémentation par boucle\n",
    "- Implémentation vectorisée\n"
   ]
  },
  {
   "cell_type": "code",
   "execution_count": 22,
   "metadata": {},
   "outputs": [],
   "source": [
    "def mean_squared_error_loop(a, b):\n",
    "    \"\"\"\n",
    "    Loop implementation of a mean squared error between two vectors\n",
    "    Arguments:\n",
    "      a: numpy nd-array with size (n)\n",
    "      b: numpy nd-array with size (n)\n",
    "    Returns:\n",
    "      error: scalar which is the squared error of a and b\n",
    "    \"\"\"\n",
    "    error = 0    \n",
    "    n = len(a)\n",
    "    ### START CODE HERE ###\n",
    "   \n",
    "    \n",
    "    ### END CODE HERE ###\n",
    "    return error"
   ]
  },
  {
   "cell_type": "markdown",
   "metadata": {},
   "source": [
    "**Conseils**\n",
    "- Écrivez une boucle en utilisant `range(n)`\n",
    "- Accédez aux éléments des vecteurs en utilisant `[i]`\n",
    "- N'oubliez pas de calculer la moyenne\n"
   ]
  },
  {
   "cell_type": "code",
   "execution_count": 23,
   "metadata": {},
   "outputs": [
    {
     "data": {
      "text/plain": [
       "0"
      ]
     },
     "execution_count": 23,
     "metadata": {},
     "output_type": "execute_result"
    }
   ],
   "source": [
    "np.random.seed(1337)\n",
    "a = np.random.randn(1000)\n",
    "b = np.random.randn(1000)\n",
    "mean_squared_error_loop(a, b)"
   ]
  },
  {
   "cell_type": "markdown",
   "metadata": {},
   "source": [
    "### Resultat \n",
    "1.8469650817618783"
   ]
  },
  {
   "cell_type": "code",
   "execution_count": 24,
   "metadata": {},
   "outputs": [],
   "source": [
    "def mean_squared_error_vectorized(a, b):\n",
    "    \"\"\"\n",
    "    Vectorized implementation of a mean squared error between two vectors\n",
    "    Arguments:\n",
    "      a: numpy nd-array with size (n)\n",
    "      b: numpy nd-array with size (n)\n",
    "    Returns:\n",
    "      error: scalar which is the squared error of a and b\n",
    "    \"\"\"\n",
    "    error = 0    \n",
    "    ### START CODE HERE ###\n",
    "   \n",
    "    \n",
    "    ### END CODE HERE ###\n",
    "    return error"
   ]
  },
  {
   "cell_type": "markdown",
   "metadata": {},
   "source": [
    "**Conseils**\n",
    "- Utilisez [`np.sum()`](https://numpy.org/doc/stable/reference/generated/numpy.sum.html)\n",
    "- Vous pouvez utiliser [`np.square()`](https://numpy.org/doc/stable/reference/generated/numpy.square.html) ou `x**2` pour calculer $x^2$\n",
    "- N'oubliez pas de calculer la moyenne\n"
   ]
  },
  {
   "cell_type": "code",
   "execution_count": 25,
   "metadata": {},
   "outputs": [
    {
     "data": {
      "text/plain": [
       "0"
      ]
     },
     "execution_count": 25,
     "metadata": {},
     "output_type": "execute_result"
    }
   ],
   "source": [
    "np.random.seed(1337)\n",
    "a = np.random.randn(1000)\n",
    "b = np.random.randn(1000)\n",
    "mean_squared_error_vectorized(a, b)"
   ]
  },
  {
   "cell_type": "markdown",
   "metadata": {},
   "source": [
    "### Resultat\n",
    "1.846965081761879"
   ]
  },
  {
   "cell_type": "markdown",
   "metadata": {},
   "source": [
    "##  Comparison du temp"
   ]
  },
  {
   "cell_type": "code",
   "execution_count": 26,
   "metadata": {},
   "outputs": [
    {
     "name": "stdout",
     "output_type": "stream",
     "text": [
      "Loop version duration: 0.0827 ms \n",
      "Vectorized version duration: 0.1872 ms \n"
     ]
    }
   ],
   "source": [
    "tic = time.time()\n",
    "mean_squared_error_loop(a, b)\n",
    "toc = time.time()\n",
    "print(f\"Loop version duration: {1000*(toc-tic):.4f} ms \")\n",
    "\n",
    "\n",
    "tic = time.time()\n",
    "mean_squared_error_vectorized(a, b)\n",
    "toc = time.time()\n",
    "print(f\"Vectorized version duration: {1000*(toc-tic):.4f} ms \")"
   ]
  },
  {
   "cell_type": "markdown",
   "metadata": {},
   "source": [
    "# Conclusion\n",
    "\n",
    "- Vous avez appris à créer des tableaux et des matrices Numpy remplis de nombres aléatoires ou de zéros\n",
    "- Vous avez appris à appliquer des opérations de base aux tableaux Numpy\n",
    "- Vous avez appris la différence entre le découpage et l'indexation\n",
    "- Vous avez appris qu'une implémentation vectorisée est souvent beaucoup plus rapide que les solutions basées sur des boucles\n"
   ]
  },
  {
   "cell_type": "markdown",
   "metadata": {},
   "source": [
    "# References\n",
    "```\n",
    "@Article{         harris2020array,\n",
    " title         = {Array programming with {NumPy}},\n",
    " author        = {Charles R. Harris and K. Jarrod Millman and St{\\'{e}}fan J.\n",
    "                 van der Walt and Ralf Gommers and Pauli Virtanen and David\n",
    "                 Cournapeau and Eric Wieser and Julian Taylor and Sebastian\n",
    "                 Berg and Nathaniel J. Smith and Robert Kern and Matti Picus\n",
    "                 and Stephan Hoyer and Marten H. van Kerkwijk and Matthew\n",
    "                 Brett and Allan Haldane and Jaime Fern{\\'{a}}ndez del\n",
    "                 R{\\'{i}}o and Mark Wiebe and Pearu Peterson and Pierre\n",
    "                 G{\\'{e}}rard-Marchant and Kevin Sheppard and Tyler Reddy and\n",
    "                 Warren Weckesser and Hameer Abbasi and Christoph Gohlke and\n",
    "                 Travis E. Oliphant},\n",
    " year          = {2020},\n",
    " month         = sep,\n",
    " journal       = {Nature},\n",
    " volume        = {585},\n",
    " number        = {7825},\n",
    " pages         = {357--362},\n",
    " doi           = {10.1038/s41586-020-2649-2},\n",
    " publisher     = {Springer Science and Business Media {LLC}},\n",
    " url           = {https://doi.org/10.1038/s41586-020-2649-2}\n",
    "}\n",
    "```"
   ]
  },
  {
   "cell_type": "code",
   "execution_count": null,
   "metadata": {},
   "outputs": [],
   "source": []
  }
 ],
 "metadata": {
  "dl_toc_settings": {
   "rndtag": "40015"
  },
  "kernelspec": {
   "display_name": "Python 3 (ipykernel)",
   "language": "python",
   "name": "python3"
  },
  "language_info": {
   "codemirror_mode": {
    "name": "ipython",
    "version": 3
   },
   "file_extension": ".py",
   "mimetype": "text/x-python",
   "name": "python",
   "nbconvert_exporter": "python",
   "pygments_lexer": "ipython3",
   "version": "3.9.7"
  },
  "toc-autonumbering": false
 },
 "nbformat": 4,
 "nbformat_minor": 4
}
